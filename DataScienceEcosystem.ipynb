{
 "cells": [
  {
   "cell_type": "code",
   "execution_count": null,
   "id": "ed8eca10-2452-40d1-888a-74af495063da",
   "metadata": {},
   "outputs": [],
   "source": [
    "# 1. Create a Jupyter Notebook"
   ]
  },
  {
   "cell_type": "code",
   "execution_count": null,
   "id": "eda45cd5-3fe5-4dfa-900b-a75b9c330e76",
   "metadata": {},
   "outputs": [],
   "source": [
    "# 2. Create markdown cell with the title of the notebook."
   ]
  },
  {
   "cell_type": "markdown",
   "id": "8b3bcfaa-f699-44d5-948a-3344a662c30f",
   "metadata": {},
   "source": [
    "# Data Science Tools and Ecosystem"
   ]
  },
  {
   "cell_type": "code",
   "execution_count": null,
   "id": "f0fc8653-6629-4572-9e8b-6d87e1a4bb14",
   "metadata": {},
   "outputs": [],
   "source": [
    "# 3. Create a markdown cell for an introduction."
   ]
  },
  {
   "cell_type": "markdown",
   "id": "aa193375-227c-4506-9207-4567eb13314d",
   "metadata": {},
   "source": [
    "In this notebook, Data Science Tools and Ecosystem are summarized."
   ]
  },
  {
   "cell_type": "code",
   "execution_count": null,
   "id": "ba314a59-23e1-4c06-bfb8-369d0a197a61",
   "metadata": {},
   "outputs": [],
   "source": [
    "# 10. Insert the markdown cell to list Objectives"
   ]
  },
  {
   "cell_type": "markdown",
   "id": "25b16fa3-08ea-4239-91a4-5c6eba67d913",
   "metadata": {},
   "source": [
    "**Objectives:**\n",
    "* List popular languages for Data Science\n",
    "* List popular libraries for Data Science\n",
    "* Table of Data Science tools\n",
    "* Code cell for arithmetic expression"
   ]
  },
  {
   "cell_type": "code",
   "execution_count": null,
   "id": "41599cc3-4a8c-4bdc-a8e9-82d2c12e5263",
   "metadata": {},
   "outputs": [],
   "source": [
    "# 4. Create a markdown cell to list data science languages."
   ]
  },
  {
   "cell_type": "markdown",
   "id": "10dab296-1a9e-4813-97a1-5f53c4f320b9",
   "metadata": {},
   "source": [
    "Some of the popular languages that Data Scientists use are:\n",
    "1. Python\n",
    "2. R\n",
    "3. Sql\n",
    "4. Scala"
   ]
  },
  {
   "cell_type": "code",
   "execution_count": null,
   "id": "1cf2fbb2-7dba-49bf-a5d6-05b0d483e951",
   "metadata": {},
   "outputs": [],
   "source": [
    "# 5. Create a markdown cell to list data science libraries."
   ]
  },
  {
   "cell_type": "markdown",
   "id": "4ec33853-95b4-4a06-b2f6-73a89a596aaf",
   "metadata": {},
   "source": [
    "Some of the commonly used libraries used by Data Scientists include:\n",
    "1. NumPy\n",
    "2. Pandas\n",
    "3. ggplot\n",
    "4. SciPy"
   ]
  },
  {
   "cell_type": "code",
   "execution_count": null,
   "id": "c644d254-8bc6-4f9d-a2af-4de9b9163b96",
   "metadata": {},
   "outputs": [],
   "source": [
    "# 6. Create a markdown cell with a table of Data Science tools."
   ]
  },
  {
   "cell_type": "markdown",
   "id": "0f7c6712-0154-4a36-a581-332ec8610d50",
   "metadata": {},
   "source": [
    "|Data Science Tools|\n",
    "|------------------|\n",
    "|Jupyter Notebook|\n",
    "|Spark|\n",
    "|RStudio|"
   ]
  },
  {
   "cell_type": "code",
   "execution_count": null,
   "id": "a1ae933f-798c-4273-95e6-01b4b3d134a1",
   "metadata": {},
   "outputs": [],
   "source": [
    "# 7. Create a markdown cell introducing arithmetic expression examples."
   ]
  },
  {
   "cell_type": "markdown",
   "id": "0f6f5546-3065-4424-9132-49b549b01e2c",
   "metadata": {},
   "source": [
    "### Below are a few examples of evaluating arithmetic expressions in Python"
   ]
  },
  {
   "cell_type": "code",
   "execution_count": null,
   "id": "e7ce1ecf-366f-462c-ac3a-5a7851b6acee",
   "metadata": {},
   "outputs": [],
   "source": [
    "# 8. Create a code cell to multiply and add numbers."
   ]
  },
  {
   "cell_type": "code",
   "execution_count": 7,
   "id": "cf4f4e18-0a96-4812-a533-4d34e51c937c",
   "metadata": {},
   "outputs": [
    {
     "data": {
      "text/plain": [
       "17"
      ]
     },
     "execution_count": 7,
     "metadata": {},
     "output_type": "execute_result"
    }
   ],
   "source": [
    "# This is a simple arithmetic expression to multiply and then add integers\n",
    "(3*4)+5"
   ]
  },
  {
   "cell_type": "code",
   "execution_count": null,
   "id": "605c0795-2b4c-485b-8dc4-ce01b55be3f5",
   "metadata": {},
   "outputs": [],
   "source": [
    "# 9. Create a code cell to convert minutes to hours"
   ]
  },
  {
   "cell_type": "code",
   "execution_count": 8,
   "id": "9fe8c8ef-05ab-4ef5-b8df-76ecbb388b08",
   "metadata": {},
   "outputs": [
    {
     "data": {
      "text/plain": [
       "3.3333333333333335"
      ]
     },
     "execution_count": 8,
     "metadata": {},
     "output_type": "execute_result"
    }
   ],
   "source": [
    "# This will convert 200 minutes to hours by dividing by 60\n",
    "200/60"
   ]
  },
  {
   "cell_type": "code",
   "execution_count": null,
   "id": "cd38188a-eec9-49c0-9835-f9149080c978",
   "metadata": {},
   "outputs": [],
   "source": [
    "# 11. Create a markdown cell to indicate the Authors name"
   ]
  },
  {
   "cell_type": "markdown",
   "id": "ed4f3325-fd35-4867-a17f-a56eed085150",
   "metadata": {},
   "source": [
    "## Author\n",
    "Kiruthiga Shanmugam"
   ]
  },
  {
   "cell_type": "code",
   "execution_count": null,
   "id": "a1485833-92d9-4043-8512-c2f7fd350d16",
   "metadata": {},
   "outputs": [],
   "source": [
    "# 12. Share your notebook through GitHub\n",
    "# 13. Take a screenshot of the first page of the notebook"
   ]
  }
 ],
 "metadata": {
  "kernelspec": {
   "display_name": "Python 3 (ipykernel)",
   "language": "python",
   "name": "python3"
  },
  "language_info": {
   "codemirror_mode": {
    "name": "ipython",
    "version": 3
   },
   "file_extension": ".py",
   "mimetype": "text/x-python",
   "name": "python",
   "nbconvert_exporter": "python",
   "pygments_lexer": "ipython3",
   "version": "3.12.4"
  }
 },
 "nbformat": 4,
 "nbformat_minor": 5
}
